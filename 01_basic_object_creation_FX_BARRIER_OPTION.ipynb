{
 "cells": [
  {
   "cell_type": "markdown",
   "metadata": {},
   "source": [
    "Author: Pawel Konieczny (pkonieczny@numerix.com)"
   ]
  },
  {
   "cell_type": "markdown",
   "metadata": {},
   "source": [
    "# Key/Value API"
   ]
  },
  {
   "cell_type": "markdown",
   "metadata": {},
   "source": [
    "In this example we will show what are the principles behind Key/Value API.\n",
    "\n",
    "For this example we will create an FX Barrier Pricer.\n",
    "\n",
    "We will also introduce **NxPyTools.Create** and **NxPyTools.View** modules."
   ]
  },
  {
   "cell_type": "markdown",
   "metadata": {},
   "source": [
    "## Excel example"
   ]
  },
  {
   "cell_type": "markdown",
   "metadata": {},
   "source": [
    "*Open FX_Barrier_option.xlsx*"
   ]
  },
  {
   "cell_type": "markdown",
   "metadata": {
    "ExecuteTime": {
     "end_time": "2016-07-25T15:23:52.497000",
     "start_time": "2016-07-25T15:23:52.494000"
    }
   },
   "source": [
    "## Python Example"
   ]
  },
  {
   "cell_type": "markdown",
   "metadata": {},
   "source": [
    "### Most basic way of creating objects"
   ]
  },
  {
   "cell_type": "markdown",
   "metadata": {},
   "source": [
    "First we do all necessary imports"
   ]
  },
  {
   "cell_type": "code",
   "execution_count": null,
   "metadata": {
    "ExecuteTime": {
     "end_time": "2016-08-02T15:56:18.511125",
     "start_time": "2016-08-02T15:56:18.416054"
    },
    "collapsed": true
   },
   "outputs": [],
   "source": [
    "from __future__ import print_function\n",
    "import NxPySDK as nx    # this is standard Numerix SDK\n",
    "\n",
    "import datetime"
   ]
  },
  {
   "cell_type": "markdown",
   "metadata": {},
   "source": [
    "First we need to create an Application object. All computations are going to be performed in that context."
   ]
  },
  {
   "cell_type": "code",
   "execution_count": null,
   "metadata": {
    "ExecuteTime": {
     "end_time": "2016-08-02T15:56:18.564165",
     "start_time": "2016-08-02T15:56:18.512124"
    },
    "collapsed": true
   },
   "outputs": [],
   "source": [
    "app = nx.Application()   # computation context\n",
    "warning = nx.ApplicationWarning()     # needed to capture if something went wrong"
   ]
  },
  {
   "cell_type": "markdown",
   "metadata": {},
   "source": [
    "We may look at what is in an empty Application"
   ]
  },
  {
   "cell_type": "code",
   "execution_count": null,
   "metadata": {
    "ExecuteTime": {
     "end_time": "2016-08-02T15:56:18.578172",
     "start_time": "2016-08-02T15:56:18.565162"
    },
    "collapsed": false
   },
   "outputs": [],
   "source": [
    "print(app)"
   ]
  },
  {
   "cell_type": "markdown",
   "metadata": {},
   "source": [
    "Then we need to start creating all objects one by one. The overall scheme is going to be the same:\n",
    "  - create ApplicationCall\n",
    "  - add headers and values\n",
    "  - register the object in the Application"
   ]
  },
  {
   "cell_type": "code",
   "execution_count": null,
   "metadata": {
    "ExecuteTime": {
     "end_time": "2016-08-02T15:56:18.597915",
     "start_time": "2016-08-02T15:56:18.580173"
    },
    "collapsed": true
   },
   "outputs": [],
   "source": [
    "# TODAY OBJECT:\n",
    "# Create ApplicationCall first\n",
    "c = nx.ApplicationCall()\n",
    "\n",
    "# add headers and values\n",
    "c.addValue('ID', 'TODAY')\n",
    "c.addValue('NAME', 'TODAY')\n",
    "c.addValue('OBJECT', 'EVENTS')\n",
    "c.addValue('TYPE', 'SINGLE DATE')\n",
    "c.addValue('DATES', datetime.date(2016, 7, 27))\n",
    "\n",
    "# registering this object with Application\n",
    "app.call(c, warning)"
   ]
  },
  {
   "cell_type": "markdown",
   "metadata": {},
   "source": [
    "let's see if this object actually showed up in the Application"
   ]
  },
  {
   "cell_type": "code",
   "execution_count": null,
   "metadata": {
    "ExecuteTime": {
     "end_time": "2016-08-02T15:56:18.620932",
     "start_time": "2016-08-02T15:56:18.599917"
    },
    "collapsed": false
   },
   "outputs": [],
   "source": [
    "print(app)"
   ]
  },
  {
   "cell_type": "markdown",
   "metadata": {
    "ExecuteTime": {
     "end_time": "2016-07-25T15:31:33.108000",
     "start_time": "2016-07-25T15:31:33.107000"
    }
   },
   "source": [
    "### Convenience functions"
   ]
  },
  {
   "cell_type": "markdown",
   "metadata": {},
   "source": [
    "We see that this will be a repetitive task so we might as well create some convenience functions for that."
   ]
  },
  {
   "cell_type": "markdown",
   "metadata": {},
   "source": [
    "There are some convenience functions already implemented. Those are gathered in the **NxPyTools.Create module**."
   ]
  },
  {
   "cell_type": "code",
   "execution_count": null,
   "metadata": {
    "ExecuteTime": {
     "end_time": "2016-08-02T15:56:18.644950",
     "start_time": "2016-08-02T15:56:18.622933"
    },
    "collapsed": true
   },
   "outputs": [],
   "source": [
    "# import Create module:\n",
    "import NxPyTools.Create as nxCreate"
   ]
  },
  {
   "cell_type": "code",
   "execution_count": null,
   "metadata": {
    "collapsed": true
   },
   "outputs": [],
   "source": []
  },
  {
   "cell_type": "code",
   "execution_count": null,
   "metadata": {
    "collapsed": true
   },
   "outputs": [],
   "source": []
  },
  {
   "cell_type": "markdown",
   "metadata": {},
   "source": [
    "Now we can create objects a bit more easily. There is a number of possibilities which we encourage you to explore but here we will use the most straightforward one.\n",
    "\n",
    "Let's start with getting some help on that module:"
   ]
  },
  {
   "cell_type": "code",
   "execution_count": null,
   "metadata": {
    "ExecuteTime": {
     "end_time": "2016-08-02T15:56:18.666966",
     "start_time": "2016-08-02T15:56:18.648959"
    },
    "collapsed": false
   },
   "outputs": [],
   "source": [
    "# to find out what functions are available one may write:\n",
    "help(nxCreate)"
   ]
  },
  {
   "cell_type": "code",
   "execution_count": null,
   "metadata": {
    "ExecuteTime": {
     "end_time": "2016-08-02T15:56:18.711001",
     "start_time": "2016-08-02T15:56:18.670969"
    },
    "collapsed": false
   },
   "outputs": [],
   "source": [
    "# let's create USD Yield Curve\n",
    "nxCreate.register_call(app=app, headers=['ID', 'OBJECT', 'TYPE', 'NOWDATE', 'CURRENCY', 'RATE/DIVIDEND'], values=['YC_USD', 'MARKET DATA', 'YIELD', 'TODAY', 'USD', 0.05])"
   ]
  },
  {
   "cell_type": "markdown",
   "metadata": {},
   "source": [
    "We see that it returns registered ID for further use"
   ]
  },
  {
   "cell_type": "code",
   "execution_count": null,
   "metadata": {
    "ExecuteTime": {
     "end_time": "2016-08-02T15:56:18.720004",
     "start_time": "2016-08-02T15:56:18.714000"
    },
    "collapsed": false
   },
   "outputs": [],
   "source": [
    "# let's create GBP curve:\n",
    "nxCreate.register_call(app=app, headers=['ID', 'OBJECT', 'TYPE', 'NOWDATE', 'CURRENCY', 'RATE/DIVIDEND'], values=['YC_GBP', 'MARKET DATA', 'YIELD', 'TODAY', 'GBP', 0.02])"
   ]
  },
  {
   "cell_type": "code",
   "execution_count": null,
   "metadata": {
    "ExecuteTime": {
     "end_time": "2016-08-02T15:56:18.735014",
     "start_time": "2016-08-02T15:56:18.722006"
    },
    "collapsed": false
   },
   "outputs": [],
   "source": [
    "# Instrument to be priced\n",
    "instrument_id = nxCreate.register_call(app=app,\n",
    "                       headers=['ID', 'OBJECT', 'TYPE', 'BARRIER LEVEL', 'BARRIER TYPE', 'BARRIER DIRECTION', 'CURRENCY', 'FOREIGN 1 CURRENCY', 'EXPIRY', 'PAYOUT CURRENCY'],\n",
    "                       values=['FX_GBP_USD_INSTRUMENT', 'INSTRUMENT', 'FX BARRIER', 1.5, 'Knock In', 'DOWN', 'USD', 'GBP', datetime.date(2017, 7, 27), 'GBP'])"
   ]
  },
  {
   "cell_type": "code",
   "execution_count": null,
   "metadata": {
    "ExecuteTime": {
     "end_time": "2016-08-02T15:56:18.758031",
     "start_time": "2016-08-02T15:56:18.737017"
    },
    "collapsed": false
   },
   "outputs": [],
   "source": [
    "print(instrument_id)"
   ]
  },
  {
   "cell_type": "code",
   "execution_count": null,
   "metadata": {
    "ExecuteTime": {
     "end_time": "2016-08-02T15:56:18.782049",
     "start_time": "2016-08-02T15:56:18.761034"
    },
    "collapsed": false
   },
   "outputs": [],
   "source": [
    "# and the Pricer\n",
    "nxCreate.register_call(app=app,\n",
    "                      headers=['ID', 'OBJECT', 'TYPE', 'NOWDATE', 'SIGMA1', 'OPTION', 'DOMESTIC YIELD CURVE', 'FOREIGN 1 YIELD CURVE', 'SPOT PRICE', 'MODEL'],\n",
    "                      values=['FX_BARRIER_PRICER', 'ANALYTIC', 'BARRIER OPTION', 'TODAY', 0.1, instrument_id, 'YC_USD', 'YC_GBP', 1.61, 'BLACK'])"
   ]
  },
  {
   "cell_type": "code",
   "execution_count": null,
   "metadata": {
    "ExecuteTime": {
     "end_time": "2016-08-02T15:56:18.804064",
     "start_time": "2016-08-02T15:56:18.788053"
    },
    "collapsed": false
   },
   "outputs": [],
   "source": [
    "print(app)"
   ]
  },
  {
   "cell_type": "markdown",
   "metadata": {},
   "source": [
    "### Reading results"
   ]
  },
  {
   "cell_type": "markdown",
   "metadata": {},
   "source": [
    "Similarly there are *standard ways* to read results from the objects being created. From Excel one knows Object Viewer. This is achieved in the following way in SDK:"
   ]
  },
  {
   "cell_type": "code",
   "execution_count": null,
   "metadata": {
    "ExecuteTime": {
     "end_time": "2016-08-02T15:56:18.828083",
     "start_time": "2016-08-02T15:56:18.806066"
    },
    "collapsed": true
   },
   "outputs": [],
   "source": [
    "d = nx.ApplicationData()   # object where to store results\n",
    "app.view('FX_BARRIER_PRICER', d, warning)"
   ]
  },
  {
   "cell_type": "markdown",
   "metadata": {},
   "source": [
    "Now *d* has results from the pricer. Let's see everything:"
   ]
  },
  {
   "cell_type": "code",
   "execution_count": null,
   "metadata": {
    "ExecuteTime": {
     "end_time": "2016-08-02T15:56:18.851099",
     "start_time": "2016-08-02T15:56:18.830083"
    },
    "collapsed": false
   },
   "outputs": [],
   "source": [
    "print(d)"
   ]
  },
  {
   "cell_type": "markdown",
   "metadata": {},
   "source": [
    "We see Object Viewer precisely. But often times we don't want to have access to everything but only to something specific.\n",
    "\n",
    "There are different ways to achieve this but let's use some convenience functions from the **NxPyTools.View module**."
   ]
  },
  {
   "cell_type": "code",
   "execution_count": null,
   "metadata": {
    "ExecuteTime": {
     "end_time": "2016-08-02T15:56:18.889126",
     "start_time": "2016-08-02T15:56:18.859104"
    },
    "collapsed": false
   },
   "outputs": [],
   "source": [
    "import NxPyTools.View as nxView\n",
    "help(nxView)"
   ]
  },
  {
   "cell_type": "markdown",
   "metadata": {},
   "source": [
    "We see a range of functions we could use. Let's briefly go through some of them:"
   ]
  },
  {
   "cell_type": "code",
   "execution_count": null,
   "metadata": {
    "ExecuteTime": {
     "end_time": "2016-08-02T15:56:18.907141",
     "start_time": "2016-08-02T15:56:18.893129"
    },
    "collapsed": false
   },
   "outputs": [],
   "source": [
    "# single output:\n",
    "print('Delta: {}'.format(nxView.single_output(app=app, object_id='FX_BARRIER_PRICER', field_id='Delta', warning=warning)[0]))   # this function always returns list, so should access the first element"
   ]
  },
  {
   "cell_type": "markdown",
   "metadata": {},
   "source": [
    "Now this is fairly convenient but if there are **more outputs** you may want to grab all of them at once:"
   ]
  },
  {
   "cell_type": "code",
   "execution_count": null,
   "metadata": {
    "ExecuteTime": {
     "end_time": "2016-08-02T15:56:47.010936",
     "start_time": "2016-08-02T15:56:47.005915"
    },
    "collapsed": false
   },
   "outputs": [],
   "source": [
    "res = nxView.outputs_as_dictionary(app=app, object_id='FX_BARRIER_PRICER')  # this returns a dictionary\n",
    "print(res['Delta'])   # accessing single entries in the dictionary\n",
    "print(res['Gamma'])"
   ]
  },
  {
   "cell_type": "markdown",
   "metadata": {},
   "source": [
    "### Writing results to an XML file"
   ]
  },
  {
   "cell_type": "markdown",
   "metadata": {},
   "source": [
    "If one wants to save that structure in an XML file he can use the built in functionality:"
   ]
  },
  {
   "cell_type": "code",
   "execution_count": null,
   "metadata": {
    "ExecuteTime": {
     "end_time": "2016-08-02T15:56:52.899871",
     "start_time": "2016-08-02T15:56:52.874853"
    },
    "collapsed": true
   },
   "outputs": [],
   "source": [
    "app.writeXML('C:/Python/XMLFiles/fx_pricer_manual.xml', warning)    "
   ]
  },
  {
   "cell_type": "markdown",
   "metadata": {},
   "source": [
    "We will use that file in our next example"
   ]
  },
  {
   "cell_type": "code",
   "execution_count": null,
   "metadata": {
    "collapsed": true
   },
   "outputs": [],
   "source": []
  },
  {
   "cell_type": "code",
   "execution_count": null,
   "metadata": {
    "collapsed": true
   },
   "outputs": [],
   "source": []
  },
  {
   "cell_type": "code",
   "execution_count": null,
   "metadata": {
    "collapsed": true
   },
   "outputs": [],
   "source": []
  },
  {
   "cell_type": "code",
   "execution_count": null,
   "metadata": {
    "collapsed": true
   },
   "outputs": [],
   "source": []
  }
 ],
 "metadata": {
  "anaconda-cloud": {},
  "kernelspec": {
   "display_name": "Python [conda root]",
   "language": "python",
   "name": "conda-root-py"
  },
  "language_info": {
   "codemirror_mode": {
    "name": "ipython",
    "version": 3
   },
   "file_extension": ".py",
   "mimetype": "text/x-python",
   "name": "python",
   "nbconvert_exporter": "python",
   "pygments_lexer": "ipython3",
   "version": "3.5.2"
  },
  "nav_menu": {},
  "toc": {
   "navigate_menu": true,
   "number_sections": true,
   "sideBar": true,
   "threshold": 6,
   "toc_cell": false,
   "toc_section_display": "block",
   "toc_window_display": false
  }
 },
 "nbformat": 4,
 "nbformat_minor": 0
}
