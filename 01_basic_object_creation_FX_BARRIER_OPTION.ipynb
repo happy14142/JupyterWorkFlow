{
 "cells": [
  {
   "cell_type": "markdown",
   "metadata": {},
   "source": [
    "Author: Pawel Konieczny (pkonieczny@numerix.com)"
   ]
  },
  {
   "cell_type": "markdown",
   "metadata": {},
   "source": [
    "# Key/Value API"
   ]
  },
  {
   "cell_type": "markdown",
   "metadata": {},
   "source": [
    "In this example we will show what are the principles behind Key/Value API.\n",
    "\n",
    "For this example we will create an FX Barrier Pricer.\n",
    "\n",
    "We will also introduce **NxPyTools.Create** and **NxPyTools.View** modules."
   ]
  },
  {
   "cell_type": "markdown",
   "metadata": {},
   "source": [
    "## Excel example"
   ]
  },
  {
   "cell_type": "markdown",
   "metadata": {},
   "source": [
    "*Open FX_Barrier_option.xlsx*"
   ]
  },
  {
   "cell_type": "markdown",
   "metadata": {
    "ExecuteTime": {
     "end_time": "2016-07-25T15:23:52.497000",
     "start_time": "2016-07-25T15:23:52.494000"
    }
   },
   "source": [
    "## Python Example"
   ]
  },
  {
   "cell_type": "markdown",
   "metadata": {},
   "source": [
    "### Most basic way of creating objects"
   ]
  },
  {
   "cell_type": "markdown",
   "metadata": {},
   "source": [
    "First we do all necessary imports"
   ]
  },
  {
   "cell_type": "code",
   "execution_count": 1,
   "metadata": {
    "ExecuteTime": {
     "end_time": "2016-08-02T15:56:18.511125",
     "start_time": "2016-08-02T15:56:18.416054"
    },
    "collapsed": true
   },
   "outputs": [],
   "source": [
    "from __future__ import print_function\n",
    "import NxPySDK as nx    # this is standard Numerix SDK\n",
    "\n",
    "import datetime"
   ]
  },
  {
   "cell_type": "markdown",
   "metadata": {},
   "source": [
    "First we need to create an Application object. All computations are going to be performed in that context."
   ]
  },
  {
   "cell_type": "code",
   "execution_count": 2,
   "metadata": {
    "ExecuteTime": {
     "end_time": "2016-08-02T15:56:18.564165",
     "start_time": "2016-08-02T15:56:18.512124"
    },
    "collapsed": true
   },
   "outputs": [],
   "source": [
    "app = nx.Application()   # computation context\n",
    "warning = nx.ApplicationWarning()     # needed to capture if something went wrong"
   ]
  },
  {
   "cell_type": "markdown",
   "metadata": {},
   "source": [
    "We may look at what is in an empty Application"
   ]
  },
  {
   "cell_type": "code",
   "execution_count": 3,
   "metadata": {
    "ExecuteTime": {
     "end_time": "2016-08-02T15:56:18.578172",
     "start_time": "2016-08-02T15:56:18.565162"
    },
    "collapsed": false
   },
   "outputs": [
    {
     "name": "stdout",
     "output_type": "stream",
     "text": [
      "ID              UPDATED TYPE            WARNINGS\n",
      "GLOBALHELPINFO  5       GLOBALHELPINFO  0       \n",
      "GLOBALINDEXINFO 4       GLOBALINDEXINFO 0       \n",
      "GLOBALINFO      0       GLOBALINFO      0       \n",
      "GLOBALOBJECTS   1       GLOBALOBJECTS   0       \n",
      "GLOBALPARSEINFO 3       GLOBALPARSEINFO 0       \n",
      "GLOBALWARNINGS  2       GLOBALWARNINGS  0       \n",
      "\n"
     ]
    }
   ],
   "source": [
    "print(app) "
   ]
  },
  {
   "cell_type": "markdown",
   "metadata": {},
   "source": [
    "Then we need to start creating all objects one by one. The overall scheme is going to be the same:\n",
    "  - create ApplicationCall\n",
    "  - add headers and values\n",
    "  - register the object in the Application"
   ]
  },
  {
   "cell_type": "code",
   "execution_count": 4,
   "metadata": {
    "ExecuteTime": {
     "end_time": "2016-08-02T15:56:18.597915",
     "start_time": "2016-08-02T15:56:18.580173"
    },
    "collapsed": true
   },
   "outputs": [],
   "source": [
    "# TODAY OBJECT:\n",
    "# Create ApplicationCall first\n",
    "c = nx.ApplicationCall()\n",
    "\n",
    "# add headers and values\n",
    "c.addValue('ID', 'TODAY')\n",
    "c.addValue('NAME', 'TODAY')\n",
    "c.addValue('OBJECT', 'EVENTS')\n",
    "c.addValue('TYPE', 'SINGLE DATE')\n",
    "c.addValue('DATES', datetime.date(2016, 7, 27))\n",
    "\n",
    "# registering this object with Application\n",
    "app.call(c, warning)"
   ]
  },
  {
   "cell_type": "markdown",
   "metadata": {},
   "source": [
    "let's see if this object actually showed up in the Application"
   ]
  },
  {
   "cell_type": "code",
   "execution_count": 5,
   "metadata": {
    "ExecuteTime": {
     "end_time": "2016-08-02T15:56:18.620932",
     "start_time": "2016-08-02T15:56:18.599917"
    },
    "collapsed": false
   },
   "outputs": [
    {
     "name": "stdout",
     "output_type": "stream",
     "text": [
      "ID              UPDATED TYPE               WARNINGS\n",
      "GLOBALHELPINFO  5       GLOBALHELPINFO     0       \n",
      "GLOBALINDEXINFO 4       GLOBALINDEXINFO    0       \n",
      "GLOBALINFO      0       GLOBALINFO         0       \n",
      "GLOBALOBJECTS   1       GLOBALOBJECTS      0       \n",
      "GLOBALPARSEINFO 3       GLOBALPARSEINFO    0       \n",
      "GLOBALWARNINGS  2       GLOBALWARNINGS     0       \n",
      "TODAY           6       EVENTS::SINGLEDATE 0       \n",
      "\n"
     ]
    }
   ],
   "source": [
    "print(app)"
   ]
  },
  {
   "cell_type": "markdown",
   "metadata": {
    "ExecuteTime": {
     "end_time": "2016-07-25T15:31:33.108000",
     "start_time": "2016-07-25T15:31:33.107000"
    }
   },
   "source": [
    "### Convenience functions"
   ]
  },
  {
   "cell_type": "markdown",
   "metadata": {},
   "source": [
    "We see that this will be a repetitive task so we might as well create some convenience functions for that."
   ]
  },
  {
   "cell_type": "markdown",
   "metadata": {},
   "source": [
    "There are some convenience functions already implemented. Those are gathered in the **NxPyTools.Create module**."
   ]
  },
  {
   "cell_type": "code",
   "execution_count": 6,
   "metadata": {
    "ExecuteTime": {
     "end_time": "2016-08-02T15:56:18.644950",
     "start_time": "2016-08-02T15:56:18.622933"
    },
    "collapsed": true
   },
   "outputs": [],
   "source": [
    "# import Create module:\n",
    "import NxPyTools.Create as nxCreate"
   ]
  },
  {
   "cell_type": "code",
   "execution_count": null,
   "metadata": {
    "collapsed": true
   },
   "outputs": [],
   "source": []
  },
  {
   "cell_type": "code",
   "execution_count": null,
   "metadata": {
    "collapsed": true
   },
   "outputs": [],
   "source": []
  },
  {
   "cell_type": "markdown",
   "metadata": {},
   "source": [
    "Now we can create objects a bit more easily. There is a number of possibilities which we encourage you to explore but here we will use the most straightforward one.\n",
    "\n",
    "Let's start with getting some help on that module:"
   ]
  },
  {
   "cell_type": "code",
   "execution_count": 7,
   "metadata": {
    "ExecuteTime": {
     "end_time": "2016-08-02T15:56:18.666966",
     "start_time": "2016-08-02T15:56:18.648959"
    },
    "collapsed": false
   },
   "outputs": [
    {
     "name": "stdout",
     "output_type": "stream",
     "text": [
      "Help on module NxPyTools.Create in NxPyTools:\n",
      "\n",
      "NAME\n",
      "    NxPyTools.Create\n",
      "\n",
      "FUNCTIONS\n",
      "    register_call(app, headers=None, values=None, values_dict=None, warning=None, **kwargs)\n",
      "        This function makes it easier to create and register ApplicationCall objects in a given Application context.\n",
      "        Three ways are possible: by specifying headers/values, by specifying a dictionary of values, or by specifying\n",
      "        function parameters (kwargs).\n",
      "        Note: if both values_dict and kwargs are provided then kwargs will overwrite values_dict.\n",
      "        \n",
      "        :param app: Application object\n",
      "        :param headers: list of headers\n",
      "        :param values: list of corresponding values\n",
      "        :param values_dict: dictionary of headers and corresponding values. If a value is a list it will be appropriately treated\n",
      "        :param warning: ApplicationWarning object to capture any warnings\n",
      "        :return: ID of the newly created object\n",
      "        :rtype: basestring\n",
      "    \n",
      "    register_data(app, object_id, data_dictionary=None, warning=None, **kwargs)\n",
      "        This function makes it easier to create ApplicationData objects within an Application.\n",
      "        If both data_dictionary and kwargs are provided then kwargs take precedence.\n",
      "        \n",
      "        :param app: Application object\n",
      "        :param object_id: ID of the resulting ApplicationData object\n",
      "        :param data_dictionary: dictionary of keys and values to be put as ApplicationData\n",
      "        :param warning: ApplicationWarning object which will store information about success/failure of the creation\n",
      "        :param kwargs: Additional parameters which will be used to update \\C{data_dictionary}\n",
      "        :return: ID of the newly created object\n",
      "        :rtype: basestring\n",
      "    \n",
      "    register_matrix(app, object_id, values_dict, warning=None)\n",
      "        This function registers a matrix from a dictionary. Please note that the dictionary should have the same structure\n",
      "        as a dictionary which one would get from an ApplicationData object after viewing a given matrix.\n",
      "        In particular \"DATAMATRIX\" header should be available in the first column.\n",
      "        Order of the dictionary keys matters.\n",
      "\n",
      "DATA\n",
      "    absolute_import = _Feature((2, 5, 0, 'alpha', 1), (3, 0, 0, 'alpha', 0...\n",
      "    logger = <logging.Logger object>\n",
      "    print_function = _Feature((2, 6, 0, 'alpha', 2), (3, 0, 0, 'alpha', 0)...\n",
      "\n",
      "AUTHOR\n",
      "    Pawel Konieczny\n",
      "\n",
      "FILE\n",
      "    c:\\python\\nx\\pythonapi-3.5-64bit-ca-13.1\\nxpytools\\create.py\n",
      "\n",
      "\n"
     ]
    }
   ],
   "source": [
    "# to find out what functions are available one may write:\n",
    "help(nxCreate)"
   ]
  },
  {
   "cell_type": "code",
   "execution_count": 8,
   "metadata": {
    "ExecuteTime": {
     "end_time": "2016-08-02T15:56:18.711001",
     "start_time": "2016-08-02T15:56:18.670969"
    },
    "collapsed": false
   },
   "outputs": [
    {
     "data": {
      "text/plain": [
       "'YC_USD'"
      ]
     },
     "execution_count": 8,
     "metadata": {},
     "output_type": "execute_result"
    }
   ],
   "source": [
    "# let's create USD Yield Curve\n",
    "nxCreate.register_call(app=app, headers=['ID', 'OBJECT', 'TYPE', 'NOWDATE', 'CURRENCY', 'RATE/DIVIDEND'], values=['YC_USD', 'MARKET DATA', 'YIELD', 'TODAY', 'USD', 0.05])"
   ]
  },
  {
   "cell_type": "markdown",
   "metadata": {},
   "source": [
    "We see that it returns registered ID for further use"
   ]
  },
  {
   "cell_type": "code",
   "execution_count": 9,
   "metadata": {
    "ExecuteTime": {
     "end_time": "2016-08-02T15:56:18.720004",
     "start_time": "2016-08-02T15:56:18.714000"
    },
    "collapsed": false
   },
   "outputs": [
    {
     "data": {
      "text/plain": [
       "'YC_GBP'"
      ]
     },
     "execution_count": 9,
     "metadata": {},
     "output_type": "execute_result"
    }
   ],
   "source": [
    "# let's create GBP curve:\n",
    "nxCreate.register_call(app=app, headers=['ID', 'OBJECT', 'TYPE', 'NOWDATE', 'CURRENCY', 'RATE/DIVIDEND'], values=['YC_GBP', 'MARKET DATA', 'YIELD', 'TODAY', 'GBP', 0.02])"
   ]
  },
  {
   "cell_type": "code",
   "execution_count": 10,
   "metadata": {
    "ExecuteTime": {
     "end_time": "2016-08-02T15:56:18.735014",
     "start_time": "2016-08-02T15:56:18.722006"
    },
    "collapsed": false
   },
   "outputs": [],
   "source": [
    "# Instrument to be priced\n",
    "instrument_id = nxCreate.register_call(app=app,\n",
    "                       headers=['ID', 'OBJECT', 'TYPE', 'BARRIER LEVEL', 'BARRIER TYPE', 'BARRIER DIRECTION', 'CURRENCY', 'FOREIGN 1 CURRENCY', 'EXPIRY', 'PAYOUT CURRENCY'],\n",
    "                       values=['FX_GBP_USD_INSTRUMENT', 'INSTRUMENT', 'FX BARRIER', 1.5, 'Knock In', 'DOWN', 'USD', 'GBP', datetime.date(2017, 7, 27), 'GBP'])"
   ]
  },
  {
   "cell_type": "code",
   "execution_count": 11,
   "metadata": {
    "ExecuteTime": {
     "end_time": "2016-08-02T15:56:18.758031",
     "start_time": "2016-08-02T15:56:18.737017"
    },
    "collapsed": false
   },
   "outputs": [
    {
     "name": "stdout",
     "output_type": "stream",
     "text": [
      "FX_GBP_USD_INSTRUMENT\n"
     ]
    }
   ],
   "source": [
    "print(instrument_id)"
   ]
  },
  {
   "cell_type": "code",
   "execution_count": 12,
   "metadata": {
    "ExecuteTime": {
     "end_time": "2016-08-02T15:56:18.782049",
     "start_time": "2016-08-02T15:56:18.761034"
    },
    "collapsed": false
   },
   "outputs": [
    {
     "data": {
      "text/plain": [
       "'FX_BARRIER_PRICER'"
      ]
     },
     "execution_count": 12,
     "metadata": {},
     "output_type": "execute_result"
    }
   ],
   "source": [
    "# and the Pricer\n",
    "nxCreate.register_call(app=app,\n",
    "                      headers=['ID', 'OBJECT', 'TYPE', 'NOWDATE', 'SIGMA1', 'OPTION', 'DOMESTIC YIELD CURVE', 'FOREIGN 1 YIELD CURVE', 'SPOT PRICE', 'MODEL'],\n",
    "                      values=['FX_BARRIER_PRICER', 'ANALYTIC', 'BARRIER OPTION', 'TODAY', 0.1, instrument_id, 'YC_USD', 'YC_GBP', 1.61, 'BLACK'])"
   ]
  },
  {
   "cell_type": "code",
   "execution_count": 13,
   "metadata": {
    "ExecuteTime": {
     "end_time": "2016-08-02T15:56:18.804064",
     "start_time": "2016-08-02T15:56:18.788053"
    },
    "collapsed": false
   },
   "outputs": [
    {
     "name": "stdout",
     "output_type": "stream",
     "text": [
      "ID                    UPDATED TYPE                    WARNINGS\n",
      "FX_BARRIER_PRICER     10      ANALYTIC::BARRIEROPTION 0       \n",
      "FX_GBP_USD_INSTRUMENT 9       INSTRUMENT::FXBARRIER   0       \n",
      "GLOBALHELPINFO        5       GLOBALHELPINFO          0       \n",
      "GLOBALINDEXINFO       4       GLOBALINDEXINFO         0       \n",
      "GLOBALINFO            0       GLOBALINFO              0       \n",
      "GLOBALOBJECTS         1       GLOBALOBJECTS           0       \n",
      "GLOBALPARSEINFO       3       GLOBALPARSEINFO         0       \n",
      "GLOBALWARNINGS        2       GLOBALWARNINGS          0       \n",
      "TODAY                 6       EVENTS::SINGLEDATE      0       \n",
      "YC_GBP                8       MARKETDATA::YIELD       0       \n",
      "YC_USD                7       MARKETDATA::YIELD       0       \n",
      "\n"
     ]
    }
   ],
   "source": [
    "print(app)"
   ]
  },
  {
   "cell_type": "markdown",
   "metadata": {},
   "source": [
    "### Reading results"
   ]
  },
  {
   "cell_type": "markdown",
   "metadata": {},
   "source": [
    "Similarly there are *standard ways* to read results from the objects being created. From Excel one knows Object Viewer. This is achieved in the following way in SDK:"
   ]
  },
  {
   "cell_type": "code",
   "execution_count": 14,
   "metadata": {
    "ExecuteTime": {
     "end_time": "2016-08-02T15:56:18.828083",
     "start_time": "2016-08-02T15:56:18.806066"
    },
    "collapsed": true
   },
   "outputs": [],
   "source": [
    "d = nx.ApplicationData()   # object where to store results\n",
    "app.view('FX_BARRIER_PRICER', d, warning)"
   ]
  },
  {
   "cell_type": "markdown",
   "metadata": {},
   "source": [
    "Now *d* has results from the pricer. Let's see everything:"
   ]
  },
  {
   "cell_type": "code",
   "execution_count": 15,
   "metadata": {
    "ExecuteTime": {
     "end_time": "2016-08-02T15:56:18.851099",
     "start_time": "2016-08-02T15:56:18.830083"
    },
    "collapsed": false
   },
   "outputs": [
    {
     "name": "stdout",
     "output_type": "stream",
     "text": [
      "NOWDATE               SPOT PRICE SIGMA1 SPOT DATE             CALL HEADERS          CALL VALUES           OUTPUT HEADERS  OUTPUT VALUES         DEPENDENCIES          QUOTES                      \n",
      "27-jul-2016 0:0:0 UTC 1.61       0.1    27-jul-2016 0:0:0 UTC ID                    FX_BARRIER_PRICER     PRICE           0.573236490778931     FX_GBP_USD_INSTRUMENT #FX_BARRIER_PRICER.SIGMA1   \n",
      "                                                              OBJECT                ANALYTIC              DELTA           -5.61468197532505     TODAY                 #FX_BARRIER_PRICER.SPOTPRICE\n",
      "                                                              TYPE                  BARRIER OPTION        DELTA TRADER    -0.000903963798027332 YC_GBP                                            \n",
      "                                                              NOWDATE               TODAY                 GAMMA           42.1175015910114      YC_USD                                            \n",
      "                                                              SIGMA1                0.1                   GAMMA TRADER    1.09172775874061e-006                                                   \n",
      "                                                              OPTION                FX_GBP_USD_INSTRUMENT VEGA            8.04698049245033                                                        \n",
      "                                                              DOMESTIC YIELD CURVE  YC_USD                VEGA TRADER     0.0804698049245033                                                      \n",
      "                                                              FOREIGN 1 YIELD CURVE YC_GBP                VOLGA           -99.3143380577088                                                       \n",
      "                                                              SPOT PRICE            1.61                  VOLGA TRADER    -0.00993143380577088                                                    \n",
      "                                                              MODEL                 BLACK                 VANNA           9.93434080648655                                                        \n",
      "                                                                                                          VANNA TRADER    1.59942886984434e-005                                                   \n",
      "                                                                                                          RHO             -4.89457787660447                                                       \n",
      "                                                                                                          RHO TRADER      -0.000489457787660447                                                   \n",
      "                                                                                                          PHI             4.32134138582554                                                        \n",
      "                                                                                                          PHI TRADER      0.000432134138582554                                                    \n",
      "                                                                                                          NOTIONAL        0                                                                       \n",
      "                                                                                                          THETA           -0.00066259813342923                                                    \n",
      "                                                                                                          EXPIRY          27-jul-2017 0:0:0 UTC                                                   \n",
      "                                                                                                          SETTLEMENT DATE 27-jul-2017 0:0:0 UTC                                                   \n",
      "                                                                                                          SPOT DATE       27-jul-2016 0:0:0 UTC                                                   \n",
      "                                                                                                          UPDATED         10 @ 12:15:00 PM                                                        \n",
      "                                                                                                          ID              FX_BARRIER_PRICER                                                       \n",
      "                                                                                                          TIMER           0.000532604870386422                                                    \n",
      "                                                                                                          TIMER CPU       0                                                                       \n",
      "                                                                                                          LOCAL ID        FX_BARRIER_PRICER                                                       \n",
      "\n"
     ]
    }
   ],
   "source": [
    "print(d)"
   ]
  },
  {
   "cell_type": "markdown",
   "metadata": {},
   "source": [
    "We see Object Viewer precisely. But often times we don't want to have access to everything but only to something specific.\n",
    "\n",
    "There are different ways to achieve this but let's use some convenience functions from the **NxPyTools.View module**."
   ]
  },
  {
   "cell_type": "code",
   "execution_count": 16,
   "metadata": {
    "ExecuteTime": {
     "end_time": "2016-08-02T15:56:18.889126",
     "start_time": "2016-08-02T15:56:18.859104"
    },
    "collapsed": false
   },
   "outputs": [
    {
     "name": "stdout",
     "output_type": "stream",
     "text": [
      "Help on module NxPyTools.View in NxPyTools:\n",
      "\n",
      "NAME\n",
      "    NxPyTools.View\n",
      "\n",
      "FUNCTIONS\n",
      "    all_as_dictionary(app, object_id, warning=None, headers_subset=[])\n",
      "        Function returns a given object as a dictionary with dictionary keys from object view headers and\n",
      "        with dictionary values from object view values (lists)\n",
      "        \n",
      "        :param app: Application object\n",
      "        :param object_id: ID of the object to be queried\n",
      "        :param warning: warning object to be used while querying the object. If C{None} a temporary will be created.\n",
      "        :param headers_subset: request only provided list of headers. If C{subset} is empty then no restrictions.\n",
      "        :return: Dictionary (key'd by headers) with corresponding lists as values\n",
      "        :rtype: dict\n",
      "    \n",
      "    as_matrix(app, object_id, warning=None)\n",
      "        This function returns an ApplicationMatrix instance from the Application.\n",
      "        None and an error msg if there are any fatal errors\n",
      "    \n",
      "    as_string(app, object_id)\n",
      "        This function simply queries the app for the object with C{object_id} and displays\n",
      "        it as an ApplicationData native string\n",
      "    \n",
      "    call_as_dictionary(app, object_id, warning=None)\n",
      "        Function returns a dictionary (key/value(s)) which can be used to recreate this object.\n",
      "        \n",
      "        :param app: Application object\n",
      "        :param object_id: ID of the object to be queried\n",
      "        :param warning: warning object to be used while querying the object. If C{None} a temporary will be created.\n",
      "        :return: Dictionary (key'd by headers) with corresponding lists as values\n",
      "        :rtype: dict\n",
      "    \n",
      "    matrix_as_dictionary(app, object_id, warning=None, transpose=True)\n",
      "        This function returns an ApplicationMatrix as a dictionary (NxDict). It takes into account missing values\n",
      "          in the matrix.\n",
      "        :param transpose: whether to transpose the matrix. This is often useful to overcome a small bug in CA.\n",
      "    \n",
      "    outputs_as_dictionary(app, object_id, warning=None)\n",
      "        For a given object function returns a dictionary of results which is assembled from OUTPUT HEADERS\n",
      "        matched with OUTPUT VALUES for a given object.\n",
      "        Assumption here is that OUTPUT HEADERS are unique. If they are not please use other methods.\n",
      "        This function is useful if one wants to get results of some computations as a dictionary.\n",
      "        \n",
      "        :param app: Application object\n",
      "        :param object_id: ID of the object to be queried\n",
      "        :param warning: warning object to be used while querying the object. If C{None} a temporary will be created.\n",
      "        :return: Dictionary (key'd by headers) with corresponding lists as values\n",
      "        :rtype: dict\n",
      "    \n",
      "    single_output(app, object_id, field_id, warning=None)\n",
      "        Function returns a given output for a given object. Typically one would fetch 'results' this way.\n",
      "        \n",
      "        :param app: Application object\n",
      "        :param object_id: ID of the object to be queried\n",
      "        :param field_id: name of the output field\n",
      "        :param warning: warning object to be used while querying the object. If C{None} a temporary will be created.\n",
      "        :return: scalar or a list\n",
      "\n",
      "DATA\n",
      "    absolute_import = _Feature((2, 5, 0, 'alpha', 1), (3, 0, 0, 'alpha', 0...\n",
      "    print_function = _Feature((2, 6, 0, 'alpha', 2), (3, 0, 0, 'alpha', 0)...\n",
      "\n",
      "AUTHOR\n",
      "    Pawel Konieczny\n",
      "\n",
      "FILE\n",
      "    c:\\python\\nx\\pythonapi-3.5-64bit-ca-13.1\\nxpytools\\view.py\n",
      "\n",
      "\n"
     ]
    }
   ],
   "source": [
    "import NxPyTools.View as nxView\n",
    "help(nxView)"
   ]
  },
  {
   "cell_type": "markdown",
   "metadata": {},
   "source": [
    "We see a range of functions we could use. Let's briefly go through some of them:"
   ]
  },
  {
   "cell_type": "code",
   "execution_count": 17,
   "metadata": {
    "ExecuteTime": {
     "end_time": "2016-08-02T15:56:18.907141",
     "start_time": "2016-08-02T15:56:18.893129"
    },
    "collapsed": false
   },
   "outputs": [
    {
     "name": "stdout",
     "output_type": "stream",
     "text": [
      "Delta: -5.614681975325046\n"
     ]
    }
   ],
   "source": [
    "# single output:\n",
    "print('Delta: {}'.format(nxView.single_output(app=app, object_id='FX_BARRIER_PRICER', field_id='Delta', warning=warning)[0]))   # this function always returns list, so should access the first element"
   ]
  },
  {
   "cell_type": "markdown",
   "metadata": {},
   "source": [
    "Now this is fairly convenient but if there are **more outputs** you may want to grab all of them at once:"
   ]
  },
  {
   "cell_type": "code",
   "execution_count": 18,
   "metadata": {
    "ExecuteTime": {
     "end_time": "2016-08-02T15:56:47.010936",
     "start_time": "2016-08-02T15:56:47.005915"
    },
    "collapsed": false
   },
   "outputs": [
    {
     "name": "stdout",
     "output_type": "stream",
     "text": [
      "-5.614681975325046\n",
      "42.11750159101139\n"
     ]
    }
   ],
   "source": [
    "res = nxView.outputs_as_dictionary(app=app, object_id='FX_BARRIER_PRICER')  # this returns a dictionary\n",
    "print(res['Delta'])   # accessing single entries in the dictionary\n",
    "print(res['Gamma'])"
   ]
  },
  {
   "cell_type": "markdown",
   "metadata": {},
   "source": [
    "### Writing results to an XML file"
   ]
  },
  {
   "cell_type": "markdown",
   "metadata": {},
   "source": [
    "If one wants to save that structure in an XML file he can use the built in functionality:"
   ]
  },
  {
   "cell_type": "code",
   "execution_count": 19,
   "metadata": {
    "ExecuteTime": {
     "end_time": "2016-08-02T15:56:52.899871",
     "start_time": "2016-08-02T15:56:52.874853"
    },
    "collapsed": true
   },
   "outputs": [],
   "source": [
    "app.writeXML('C:/Python/XMLFiles/fx_pricer_manual.xml', warning)    "
   ]
  },
  {
   "cell_type": "code",
   "execution_count": 20,
   "metadata": {
    "collapsed": false
   },
   "outputs": [],
   "source": [
    "from myfirstpackage.specialfunctions import specialsum"
   ]
  },
  {
   "cell_type": "markdown",
   "metadata": {},
   "source": [
    "We will use that file in our next example"
   ]
  },
  {
   "cell_type": "code",
   "execution_count": 22,
   "metadata": {
    "collapsed": true
   },
   "outputs": [],
   "source": [
    "sum = specialsum(1,2)\n"
   ]
  },
  {
   "cell_type": "code",
   "execution_count": 23,
   "metadata": {
    "collapsed": false
   },
   "outputs": [
    {
     "name": "stdout",
     "output_type": "stream",
     "text": [
      "3\n"
     ]
    }
   ],
   "source": [
    "print (sum)"
   ]
  },
  {
   "cell_type": "code",
   "execution_count": 28,
   "metadata": {
    "collapsed": false
   },
   "outputs": [],
   "source": [
    "specialsum??"
   ]
  },
  {
   "cell_type": "code",
   "execution_count": null,
   "metadata": {
    "collapsed": true
   },
   "outputs": [],
   "source": []
  }
 ],
 "metadata": {
  "anaconda-cloud": {},
  "kernelspec": {
   "display_name": "Python [conda root]",
   "language": "python",
   "name": "conda-root-py"
  },
  "language_info": {
   "codemirror_mode": {
    "name": "ipython",
    "version": 3
   },
   "file_extension": ".py",
   "mimetype": "text/x-python",
   "name": "python",
   "nbconvert_exporter": "python",
   "pygments_lexer": "ipython3",
   "version": "3.5.2"
  },
  "nav_menu": {},
  "toc": {
   "navigate_menu": true,
   "number_sections": true,
   "sideBar": true,
   "threshold": 6,
   "toc_cell": false,
   "toc_section_display": "block",
   "toc_window_display": false
  }
 },
 "nbformat": 4,
 "nbformat_minor": 0
}
